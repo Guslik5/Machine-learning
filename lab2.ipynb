{
  "nbformat": 4,
  "nbformat_minor": 0,
  "metadata": {
    "hide_input": false,
    "kernelspec": {
      "display_name": "Python 3",
      "language": "python",
      "name": "python3"
    },
    "language_info": {
      "codemirror_mode": {
        "name": "ipython",
        "version": 3
      },
      "file_extension": ".py",
      "mimetype": "text/x-python",
      "name": "python",
      "nbconvert_exporter": "python",
      "pygments_lexer": "ipython3",
      "version": "3.7.1"
    },
    "toc": {
      "base_numbering": 1,
      "nav_menu": {},
      "number_sections": true,
      "sideBar": true,
      "skip_h1_title": false,
      "title_cell": "Table of Contents",
      "title_sidebar": "Contents",
      "toc_cell": true,
      "toc_position": {},
      "toc_section_display": true,
      "toc_window_display": false
    },
    "varInspector": {
      "cols": {
        "lenName": 16,
        "lenType": 16,
        "lenVar": 40
      },
      "kernels_config": {
        "python": {
          "delete_cmd_postfix": "",
          "delete_cmd_prefix": "del ",
          "library": "var_list.py",
          "varRefreshCmd": "print(var_dic_list())"
        },
        "r": {
          "delete_cmd_postfix": ") ",
          "delete_cmd_prefix": "rm(",
          "library": "var_list.r",
          "varRefreshCmd": "cat(var_dic_list()) "
        }
      },
      "types_to_exclude": [
        "module",
        "function",
        "builtin_function_or_method",
        "instance",
        "_Feature"
      ],
      "window_display": false
    },
    "colab": {
      "provenance": []
    }
  },
  "cells": [
    {
      "cell_type": "code",
      "metadata": {
        "ExecuteTime": {
          "end_time": "2020-04-23T10:16:05.965275Z",
          "start_time": "2020-04-23T10:16:05.312704Z"
        },
        "id": "bZ7J0si68JdT"
      },
      "source": [
        "import pandas as pd\n",
        "import numpy as np"
      ],
      "execution_count": 2,
      "outputs": []
    },
    {
      "cell_type": "markdown",
      "metadata": {
        "id": "xjvL0IIG8Jd0"
      },
      "source": [
        "## Задание 0\n"
      ]
    },
    {
      "cell_type": "markdown",
      "metadata": {
        "id": "yaSxXHvxO0qo"
      },
      "source": [
        "Для всех  заданий будем использовать обезличенные транзакционные банковские данные. Для этого считайте в переменные **tr_mcc_codes, tr_types, transactions и gender_train** из одноимённых таблиц из папки [data](https://drive.google.com/drive/folders/1YAMe7MiTxA-RSSd8Ex2p-L0Dspe6Gs4L).\n",
        "\n",
        "Для таблицы transactions используйте только первые n=1000000 строк. При чтении файлов обратите внимание на разделители внутри каждого из файлов - они могут различаться!"
      ]
    },
    {
      "cell_type": "code",
      "source": [
        "from pydrive.auth import GoogleAuth\n",
        "from pydrive.drive import GoogleDrive\n",
        "from google.colab import auth\n",
        "from oauth2client.client import GoogleCredentials\n",
        "\n",
        "auth.authenticate_user()\n",
        "gauth = GoogleAuth()\n",
        "gauth.credentials = GoogleCredentials.get_application_default()\n",
        "drive = GoogleDrive(gauth)\n",
        "\n",
        "download = drive.CreateFile({'id' : '10J8RzMIhoYHiad49r-oWNMAk-V5lo3OE'})\n",
        "download.GetContentFile('tr_mcc_codes.csv')\n",
        "tr_mcc_codes = pd.read_csv('tr_mcc_codes.csv',sep=';')\n",
        "\n",
        "download = drive.CreateFile({'id' : '1lEpoRKczv5EvZhff9O2I-0JkdHnbe_Mq'})\n",
        "download.GetContentFile('transactions.csv')\n",
        "transactions = pd.read_csv('transactions.csv', nrows=100000, sep =',')\n",
        "\n",
        "download = drive.CreateFile({'id' : '1FG1fopcmvMZ7GBaBOqQipccSeFoMUvNT'})\n",
        "download.GetContentFile('gender_train.csv')\n",
        "gender_train = pd.read_csv('gender_train.csv')\n",
        "\n",
        "download = drive.CreateFile({'id' : '1EP3KrATWS1I_qYdpRhYnSDl-eoBiOBQc'})\n",
        "download.GetContentFile('tr_types.csv')\n",
        "tr_types = pd.read_csv('tr_types.csv', sep=';')"
      ],
      "metadata": {
        "id": "DXKR6gOLAlja"
      },
      "execution_count": 3,
      "outputs": []
    },
    {
      "cell_type": "markdown",
      "metadata": {
        "id": "oP3lX9xC8Jd8"
      },
      "source": [
        "###  Описание данных\n",
        "#### Таблица ```transactions.csv```\n",
        "##### Описание\n",
        "Таблица содержит историю транзакций клиентов банка за один год и три месяца.\n",
        "\n",
        "##### Формат данных\n",
        "\n",
        "```\n",
        "customer_id,tr_datetime,mcc_code,tr_type,amount,term_id\n",
        "111111,15 01:40:52,1111,1000,-5224,111111\n",
        "111112,15 15:18:32,3333,2000,-100,11122233\n",
        "...\n",
        "```\n",
        "##### Описание полей\n",
        "\n",
        " - ```customer_id``` — идентификатор клиента;\n",
        " - ```tr_datetime``` — день и время совершения транзакции (дни нумеруются с начала данных);\n",
        " - ```mcc_code``` — mcc-код транзакции;\n",
        " - ```tr_type``` — тип транзакции;\n",
        " - ```amount``` — сумма транзакции в условных единицах со знаком; ```+``` — начисление средств клиенту (приходная транзакция), ```-``` — списание средств (расходная транзакция);\n",
        " - ```term_id``` — идентификатор терминала;\n",
        "\n",
        "\n",
        "#### Таблица ```gender_train.csv```\n",
        "\n",
        "##### Описание\n",
        "Данная таблица содержит информацию по полу для части клиентов, для которых он известен. Для остальных клиентов пол неизвестен.\n",
        "\n",
        "##### Формат данных\n",
        "```\n",
        "customer_id,gender\n",
        "111111,0\n",
        "111112,1\n",
        "...\n",
        "```\n",
        "\n",
        "##### Описание полей\n",
        " - ```customer_id``` — идентификатор клиента;\n",
        " - ```gender``` — пол клиента;\n",
        "\n",
        "### Таблица ```tr_mcc_codes.csv```\n",
        "\n",
        "##### Описание\n",
        "Данная таблица содержит описание mcc-кодов транзакций.\n",
        "\n",
        "##### Формат данных\n",
        "```\n",
        "mcc_code;mcc_description\n",
        "1000;словесное описание mcc-кода 1000\n",
        "2000;словесное описание mcc-кода 2000\n",
        "...\n",
        "```\n",
        "\n",
        "##### Описание полей\n",
        " - ```mcc_code``` – mcc-код транзакции;\n",
        " - ```mcc_description``` — описание mcc-кода транзакции.\n",
        "\n",
        "#### Таблица ```tr_types.csv```\n",
        "\n",
        "##### Описание\n",
        "Данная таблица содержит описание типов транзакций.\n",
        "\n",
        "##### Формат данных\n",
        "```\n",
        "tr_type;tr_description\n",
        "1000;словесное описание типа транзакции 1000\n",
        "2000;словесное описание типа транзакции 2000\n",
        "...\n",
        "```\n",
        "\n",
        "##### Описание полей\n",
        " - ```tr_type``` – тип транзакции;\n",
        " - ```tr_description``` — описание типа транзакции;"
      ]
    },
    {
      "cell_type": "markdown",
      "metadata": {
        "id": "04CYsBKz8JeB"
      },
      "source": [
        "\n",
        "Задания 1-4 делаются без использования merge!\n",
        "\n",
        "## Задание 1\n",
        "\n"
      ]
    },
    {
      "cell_type": "markdown",
      "metadata": {
        "id": "1hcrfwsYN_Yz"
      },
      "source": [
        "1. Для столбца tr_type датафрейма transactions выберите произвольные 1000 строк с помощью метода sample\n",
        "2. В полученной на предыдущем этапе подвыборке найдите долю транзакций (стобец tr_description в датасете tr_types), в которой содержится подстрока 'POS' или 'ATM'\n"
      ]
    },
    {
      "cell_type": "code",
      "source": [
        "transactions_result = transactions['tr_type'].sample(n=1000)\n",
        "selected = tr_types[tr_types[\"tr_description\"].str.contains('POS') | tr_types[\"tr_description\"].str.contains('АТМ')]['tr_type']\n",
        "count = transactions_result.isin(selected).value_counts()\n",
        "result = round(count[True] / 1000, 4)\n",
        "print(result)\n",
        "\n",
        "\n",
        "\n"
      ],
      "metadata": {
        "colab": {
          "base_uri": "https://localhost:8080/"
        },
        "id": "swzreAGqe4Ct",
        "outputId": "f7cd8c90-3e6d-437e-d3b2-60c5f4134d05"
      },
      "execution_count": 4,
      "outputs": [
        {
          "output_type": "stream",
          "name": "stdout",
          "text": [
            "0.667\n"
          ]
        }
      ]
    },
    {
      "cell_type": "markdown",
      "metadata": {
        "id": "fiZBDIZt8JeS"
      },
      "source": [
        "## Задание 2\n"
      ]
    },
    {
      "cell_type": "markdown",
      "metadata": {
        "id": "FFKeBUThOCrz"
      },
      "source": [
        "1. Для столбца tr_type датафрейма transactions посчитайте частоту встречаемости всех типов транзакций tr_type в transactions.\n",
        "2. Выведите топ-10 транзакций по частоте встречаемости (вывести для них tr_description тоже)."
      ]
    },
    {
      "cell_type": "code",
      "source": [
        "transaction_counts = transactions['tr_type'].value_counts()/100000\n",
        "\n",
        "transaction_counts.sort_values(ascending=False)\n",
        "print(transaction_counts.head(10))\n",
        "\n",
        "description_mode = tr_types[tr_types['tr_type'].isin(transaction_counts.head(10).index)]\n",
        "print(description_mode)\n"
      ],
      "metadata": {
        "colab": {
          "base_uri": "https://localhost:8080/"
        },
        "id": "N4mK_igSqUrS",
        "outputId": "78d24455-14cf-4c9f-81f0-491db1cdadb9"
      },
      "execution_count": 20,
      "outputs": [
        {
          "output_type": "stream",
          "name": "stdout",
          "text": [
            "1010    0.27149\n",
            "2010    0.17305\n",
            "1110    0.15167\n",
            "1030    0.13499\n",
            "7070    0.06277\n",
            "2370    0.06090\n",
            "7010    0.03039\n",
            "1100    0.01762\n",
            "1200    0.01280\n",
            "7030    0.01035\n",
            "Name: tr_type, dtype: float64\n",
            "     tr_type                                     tr_description\n",
            "39      7010       Взнос наличных через АТМ (в своем тер.банке)\n",
            "47      7030  Перевод на карту (с карты) через АТМ (в предел...\n",
            "59      7070  Перевод на карту (с карты) через Мобильный бан...\n",
            "98      1010                              Покупка. POS ТУ СБ РФ\n",
            "99      1030                     Оплата услуги. Банкоматы СБ РФ\n",
            "100     1100                                Покупка. ТУ  Россия\n",
            "101     1110                             Покупка. POS ТУ Россия\n",
            "102     1200                               Покупка. Зарубеж. ТУ\n",
            "106     2010              Выдача наличных в АТМ Сбербанк России\n",
            "129     2370  Списание с карты на карту по операции <перевод...\n"
          ]
        }
      ]
    },
    {
      "cell_type": "markdown",
      "metadata": {
        "id": "mktm_JeA8JeX"
      },
      "source": [
        "## Задание 3\n",
        "1. В датафрейме transactions найдите клиента с максимальной суммой приходов на карту\n",
        "2. В датафрейме transactions найдите клиента с максимальной суммой расходов по карте\n",
        "3. Найдите модуль разницы для этих клиентов между суммой расходов и суммой приходов"
      ]
    },
    {
      "cell_type": "code",
      "source": [
        "maxSum = transactions[transactions.amount>0].groupby(by=['customer_id']).sum().sort_values(by=['amount'], ascending=False).head(1)\n",
        "print(\"Max Sum: \", maxSum.index.values[0])\n",
        "\n",
        "minSum = transactions[transactions.amount < 0].groupby(by=['customer_id']).sum().sort_values(by=['amount'], ascending=True).head(1)\n",
        "print(\"Min Sum: \", minSum.index.values[0])\n",
        "\n",
        "difference = abs(maxSum['amount'].values[0] + minSum['amount'].values[0])\n",
        "difference"
      ],
      "metadata": {
        "colab": {
          "base_uri": "https://localhost:8080/"
        },
        "id": "DBe-BODPUGLC",
        "outputId": "f0598c15-3f84-4669-9508-a4a2c4b034b1"
      },
      "execution_count": 42,
      "outputs": [
        {
          "output_type": "stream",
          "name": "stdout",
          "text": [
            "Max Sum:  47853460\n",
            "Min Sum:  47853460\n"
          ]
        },
        {
          "output_type": "stream",
          "name": "stderr",
          "text": [
            "<ipython-input-42-d00e6f639fa8>:1: FutureWarning: The default value of numeric_only in DataFrameGroupBy.sum is deprecated. In a future version, numeric_only will default to False. Either specify numeric_only or select only columns which should be valid for the function.\n",
            "  maxSum = transactions[transactions.amount>0].groupby(by=['customer_id']).sum().sort_values(by=['amount'], ascending=False).head(1)\n",
            "<ipython-input-42-d00e6f639fa8>:4: FutureWarning: The default value of numeric_only in DataFrameGroupBy.sum is deprecated. In a future version, numeric_only will default to False. Either specify numeric_only or select only columns which should be valid for the function.\n",
            "  minSum = transactions[transactions.amount < 0].groupby(by=['customer_id']).sum().sort_values(by=['amount'], ascending=True).head(1)\n"
          ]
        },
        {
          "output_type": "execute_result",
          "data": {
            "text/plain": [
              "22549870.78000003"
            ]
          },
          "metadata": {},
          "execution_count": 42
        }
      ]
    },
    {
      "cell_type": "markdown",
      "metadata": {
        "id": "BYrJ5b_E8Jee"
      },
      "source": [
        "## Задание 4\n",
        "1. Найдите среднее арифметическое и медиану по amount по всем типам транзакций из топ 10 из задания 2\n",
        "1. Найдите среднее арифметическое и медиану по amount по всем типам транзакций для клиентов из задания 3"
      ]
    },
    {
      "cell_type": "code",
      "source": [
        "current_transactions = transactions[transactions['tr_type'].isin(description_mode['tr_type'])]\n",
        "\n",
        "means = current_transactions[['tr_type', 'amount']].groupby('tr_type').mean('amount')\n",
        "medians = current_transactions[['tr_type', 'amount']].groupby('tr_type').median('amount')\n",
        "\n",
        "print('Means:', means)\n",
        "print('Medians:', medians)"
      ],
      "metadata": {
        "colab": {
          "base_uri": "https://localhost:8080/"
        },
        "id": "9jjMpjPvZTEs",
        "outputId": "c830b240-a051-41e4-dc53-7a7c596095a0"
      },
      "execution_count": 52,
      "outputs": [
        {
          "output_type": "stream",
          "name": "stdout",
          "text": [
            "Means:                 amount\n",
            "tr_type               \n",
            "1010     -22863.403916\n",
            "1030      -5480.064844\n",
            "1100     -50347.348127\n",
            "1110     -41019.509332\n",
            "1200     -52027.017188\n",
            "2010    -125578.163257\n",
            "2370    -213480.996626\n",
            "7010     346718.698295\n",
            "7030     179112.232106\n",
            "7070     157992.110871\n",
            "Medians:             amount\n",
            "tr_type           \n",
            "1010      -7808.60\n",
            "1030      -2245.92\n",
            "1100     -11229.58\n",
            "1110     -11802.29\n",
            "1200     -10854.40\n",
            "2010     -44918.32\n",
            "2370     -44918.32\n",
            "7010     112295.79\n",
            "7030      26075.08\n",
            "7070      22459.16\n"
          ]
        }
      ]
    },
    {
      "cell_type": "markdown",
      "metadata": {
        "id": "BYXwM4l3QDBu"
      },
      "source": [
        "## Подготовка для заданий 5-8"
      ]
    },
    {
      "cell_type": "markdown",
      "metadata": {
        "id": "XWQzFeKcQHRe"
      },
      "source": [
        "*Из заданий 5-8 нужно выполнить минимум два любых*\n",
        "\n",
        "Соедините transactions с всеми остальными таблицами (tr_mcc_codes, tr_types, gender_train). Причём с gender_train необходимо смёрджиться с помощью left join, а с оставшимися датафреймами - через inner.\n",
        "После получения результата таблицы gender_train, tr_types, tr_mcc_codes можно удалить. В результате соединения датафреймов должно получиться 999584 строки."
      ]
    },
    {
      "cell_type": "code",
      "metadata": {
        "id": "sndJxjJ7QQf5",
        "colab": {
          "base_uri": "https://localhost:8080/"
        },
        "outputId": "8c558252-f4e1-4340-dc58-23c4f26145f8"
      },
      "source": [
        "transactions = pd.merge(transactions, gender_train, how='left')\n",
        "transactions = pd.merge(transactions, tr_mcc_codes, how='inner')\n",
        "transactions = pd.merge(transactions, tr_types, how='inner')\n",
        "transactions.shape"
      ],
      "execution_count": 56,
      "outputs": [
        {
          "output_type": "execute_result",
          "data": {
            "text/plain": [
              "(99992, 9)"
            ]
          },
          "metadata": {},
          "execution_count": 56
        }
      ]
    },
    {
      "cell_type": "markdown",
      "metadata": {
        "id": "8vrFauJ8QgmT"
      },
      "source": [
        "## Задание 5"
      ]
    },
    {
      "cell_type": "markdown",
      "metadata": {
        "id": "rOjEQ5xyQfE_"
      },
      "source": [
        "1. Определите модуль разницы между средними тратами женщин и мужчин (трата - отрицательное значение amount).\n",
        "2. Определите модуль разницы между средними поступлениями у мужчин и женщин\n",
        "\n",
        "Обратите внимание, что для вычисления модуля разности точных знаний о том,\n",
        "какой класc относится к мужчинам, а какой - к женщинам, не требуется."
      ]
    },
    {
      "cell_type": "code",
      "source": [
        "gender_1 = transactions[transactions.gender == 1]\n",
        "gender_0 = transactions[transactions.gender == 0]\n",
        "gender_1_expenses = gender_1[gender_1['amount'] < 0].mean()\n",
        "gender_0_expenses = gender_0[gender_0['amount'] < 0].mean()\n",
        "\n",
        "difference_expenses = abs(gender_1_expenses-gender_0_expenses)\n",
        "\n",
        "print(\"difference_expenses \",difference_expenses.amount)\n",
        "\n",
        "gender_1 = transactions[transactions.gender == 1]\n",
        "gender_0 = transactions[transactions.gender == 0]\n",
        "gender_1_receipts = gender_1[gender_1['amount'] > 0].mean()\n",
        "gender_0_receipts = gender_0[gender_0['amount'] > 0].mean()\n",
        "\n",
        "difference_receipts = abs(gender_1_receipts-gender_0_receipts)\n",
        "\n",
        "print(\"difference_receipts \",difference_receipts.amount)\n"
      ],
      "metadata": {
        "colab": {
          "base_uri": "https://localhost:8080/"
        },
        "id": "KMhaFTLGhFpB",
        "outputId": "42e8d006-d54c-4003-ae1e-6ccba23f72b7"
      },
      "execution_count": 75,
      "outputs": [
        {
          "output_type": "stream",
          "name": "stderr",
          "text": [
            "<ipython-input-75-a38d012c5cfa>:3: FutureWarning: The default value of numeric_only in DataFrame.mean is deprecated. In a future version, it will default to False. In addition, specifying 'numeric_only=None' is deprecated. Select only valid columns or specify the value of numeric_only to silence this warning.\n",
            "  gender_1_expenses = gender_1[gender_1['amount'] < 0].mean()\n",
            "<ipython-input-75-a38d012c5cfa>:4: FutureWarning: The default value of numeric_only in DataFrame.mean is deprecated. In a future version, it will default to False. In addition, specifying 'numeric_only=None' is deprecated. Select only valid columns or specify the value of numeric_only to silence this warning.\n",
            "  gender_0_expenses = gender_0[gender_0['amount'] < 0].mean()\n"
          ]
        },
        {
          "output_type": "stream",
          "name": "stdout",
          "text": [
            "difference_expenses  20819.298191988695\n",
            "difference_receipts  63813.95012566788\n"
          ]
        },
        {
          "output_type": "stream",
          "name": "stderr",
          "text": [
            "<ipython-input-75-a38d012c5cfa>:12: FutureWarning: The default value of numeric_only in DataFrame.mean is deprecated. In a future version, it will default to False. In addition, specifying 'numeric_only=None' is deprecated. Select only valid columns or specify the value of numeric_only to silence this warning.\n",
            "  gender_1_receipts = gender_1[gender_1['amount'] > 0].mean()\n",
            "<ipython-input-75-a38d012c5cfa>:13: FutureWarning: The default value of numeric_only in DataFrame.mean is deprecated. In a future version, it will default to False. In addition, specifying 'numeric_only=None' is deprecated. Select only valid columns or specify the value of numeric_only to silence this warning.\n",
            "  gender_0_receipts = gender_0[gender_0['amount'] > 0].mean()\n"
          ]
        }
      ]
    },
    {
      "cell_type": "markdown",
      "metadata": {
        "id": "DSHFLbepQ7G1"
      },
      "source": [
        "## Задание 6"
      ]
    },
    {
      "cell_type": "markdown",
      "metadata": {
        "id": "2EF1490bQ-17"
      },
      "source": [
        "1. По всем типам транзакций рассчитайте максимальную сумму прихода на карту (из строго положительных сумм по столбцу amount) отдельно для мужчин и женщин (назовите ее \"max_income\"). Оставьте по 10 типов транзакций для мужчин и для женщин, наименьших среди всех типов транзакций по полученным значениям \"max_income\".\n",
        "2. Выделите среди них те типы транзакций, которые встречаются одновременно и у мужчин, и у женщин"
      ]
    },
    {
      "cell_type": "code",
      "source": [
        "gender_0_income = gender_0[gender_0['amount']>0][['tr_type', 'amount']]\n",
        "gender_1_income = gender_1[gender_1['amount']>0][['tr_type', 'amount']]\n",
        "\n",
        "gender_0_max_income = gender_0_income.groupby(by='tr_type').max('amount').sort_values(by='amount').head(10)\n",
        "gender_1_max_income = gender_1_income.groupby(by='tr_type').max('amount').sort_values(by='amount').head(10)\n",
        "\n",
        "print(gender_0_max_income)\n",
        "\n",
        "print(gender_1_max_income)\n",
        "\n",
        "coincidences = gender_0_max_income[gender_0_max_income.index.isin(gender_1_max_income.index)]\n",
        "print(coincidences)"
      ],
      "metadata": {
        "colab": {
          "base_uri": "https://localhost:8080/"
        },
        "id": "d96n71BNlBoo",
        "outputId": "e88a8f97-290a-4b26-d5a2-afc0ec311010"
      },
      "execution_count": 90,
      "outputs": [
        {
          "output_type": "stream",
          "name": "stdout",
          "text": [
            "             amount\n",
            "tr_type            \n",
            "4100        5041.86\n",
            "7035       49410.15\n",
            "1110       51341.63\n",
            "6200      204194.17\n",
            "6010      313979.02\n",
            "8145      320145.86\n",
            "6100      369848.43\n",
            "7014     1010662.10\n",
            "7011     1122957.89\n",
            "6110     1122957.89\n",
            "             amount\n",
            "tr_type            \n",
            "6200       60119.35\n",
            "6000       79280.83\n",
            "6010      119033.54\n",
            "1110      125187.35\n",
            "1100      134530.35\n",
            "7034      224591.58\n",
            "7074      404264.84\n",
            "6100      469598.53\n",
            "7014      920825.47\n",
            "7024     1251861.32\n",
            "             amount\n",
            "tr_type            \n",
            "1110       51341.63\n",
            "6200      204194.17\n",
            "6010      313979.02\n",
            "6100      369848.43\n",
            "7014     1010662.10\n"
          ]
        }
      ]
    },
    {
      "cell_type": "markdown",
      "metadata": {
        "id": "W-LaVwRdR3UB"
      },
      "source": [
        "## Задание 7"
      ]
    },
    {
      "cell_type": "markdown",
      "metadata": {
        "id": "rhI4NOciR7e0"
      },
      "source": [
        "1. Найдите суммы затрат по каждой категории (mcc) для мужчин и для женщин.\n",
        "2. Найдите топ 10 категорий с самыми большими относительными модулями разности в тратах для разных полов (в ответе должны присутствовать описания mcc кодов)."
      ]
    },
    {
      "cell_type": "markdown",
      "metadata": {
        "id": "aGaPkQkVSvl8"
      },
      "source": [
        "## Задание 8"
      ]
    },
    {
      "cell_type": "markdown",
      "metadata": {
        "id": "T7Ox1qAXTHQl"
      },
      "source": [
        "1. Из поля tr_datetime выделите час tr_hour, в который произошла транзакция, как первые 2 цифры до \":\". (\\**)\n",
        "2. Посчитайте количество транзакций с amount<0 в ночное время для мужчин и женщин. Ночное время - это примерно 00-06 часов."
      ]
    }
  ]
}